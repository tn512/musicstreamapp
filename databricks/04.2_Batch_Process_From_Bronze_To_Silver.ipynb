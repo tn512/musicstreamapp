{
 "cells": [
  {
   "cell_type": "code",
   "execution_count": 0,
   "metadata": {
    "application/vnd.databricks.v1+cell": {
     "cellMetadata": {
      "byteLimit": 2048000,
      "rowLimit": 10000
     },
     "inputWidgets": {},
     "nuid": "ddaa87c8-7969-4e66-9264-7bcf703f24d1",
     "showTitle": false,
     "tableResultSettingsMap": {},
     "title": ""
    }
   },
   "outputs": [],
   "source": [
    "%run \"/Workspace/Users/samuel.barroscatarino@educ.sasserno.fr/musicstreamapp/databricks/01_Initialize_Setting\""
   ]
  },
  {
   "cell_type": "markdown",
   "metadata": {
    "application/vnd.databricks.v1+cell": {
     "cellMetadata": {},
     "inputWidgets": {},
     "nuid": "585e57d3-52c8-4cf1-88c9-86458e358d03",
     "showTitle": false,
     "tableResultSettingsMap": {},
     "title": ""
    }
   },
   "source": [
    "## 1. Dimension: Songs"
   ]
  },
  {
   "cell_type": "code",
   "execution_count": 0,
   "metadata": {
    "application/vnd.databricks.v1+cell": {
     "cellMetadata": {
      "byteLimit": 2048000,
      "rowLimit": 10000
     },
     "inputWidgets": {},
     "nuid": "3d3087a3-fbb9-4035-b74d-d76aa920b2da",
     "showTitle": false,
     "tableResultSettingsMap": {},
     "title": ""
    }
   },
   "outputs": [],
   "source": [
    "songs_raw = (spark.read.csv(f\"{raw_path}/songs.csv\", header=True)\n",
    "             .select(F.col(\"song_id\").alias(\"songId\"), \n",
    "                     F.col(\"title\"), \n",
    "                     F.col(\"artist_name\").alias(\"artistName\"),\n",
    "                     F.col(\"duration\").cast(T.DoubleType()),\n",
    "                     F.col(\"key\").cast(T.IntegerType()),\n",
    "                     F.col(\"key_confidence\").cast(T.DoubleType()).alias(\"keyConfidence\"),\n",
    "                     F.col(\"loudness\").cast(T.DoubleType()),\n",
    "                     F.col(\"song_hotttnesss\").cast(T.DoubleType()).alias(\"songHotness\"),\n",
    "                     F.col(\"tempo\").cast(T.DoubleType()),\n",
    "                     F.col(\"year\").cast(T.IntegerType()),\n",
    "                     F.md5(F.concat_ws(\"|\", \"song_id\")).alias(\"songKey\"))\n",
    "             .where(F.col(\"title\").isNotNull() &\n",
    "                    F.col(\"artistName\").isNotNull()))"
   ]
  },
  {
   "cell_type": "code",
   "execution_count": 0,
   "metadata": {
    "application/vnd.databricks.v1+cell": {
     "cellMetadata": {
      "byteLimit": 2048000,
      "rowLimit": 10000
     },
     "inputWidgets": {},
     "nuid": "b84cdb07-0816-4b1c-b022-298379664ab2",
     "showTitle": false,
     "tableResultSettingsMap": {},
     "title": ""
    }
   },
   "outputs": [],
   "source": [
    "(songs_raw.write\n",
    " .format(\"delta\")\n",
    " .mode(\"overwrite\")\n",
    " .saveAsTable(f\"{catalog_name}.{silver_schema}.dim_songs\"))"
   ]
  },
  {
   "cell_type": "markdown",
   "metadata": {
    "application/vnd.databricks.v1+cell": {
     "cellMetadata": {},
     "inputWidgets": {},
     "nuid": "cb01e7c3-71dc-4cd9-a6c9-9eabd80a036b",
     "showTitle": false,
     "tableResultSettingsMap": {},
     "title": ""
    }
   },
   "source": [
    "## 2. Dimension: Artists"
   ]
  },
  {
   "cell_type": "code",
   "execution_count": 0,
   "metadata": {
    "application/vnd.databricks.v1+cell": {
     "cellMetadata": {
      "byteLimit": 2048000,
      "rowLimit": 10000
     },
     "inputWidgets": {},
     "nuid": "74584780-36e9-4cac-8684-bb527b1832dc",
     "showTitle": false,
     "tableResultSettingsMap": {},
     "title": ""
    }
   },
   "outputs": [],
   "source": [
    "artists_raw = (spark.read.csv(f\"{raw_path}/songs.csv\", header=True)\n",
    "                .select(F.col(\"artist_id\").alias(\"artistId\"),\n",
    "                        F.col(\"artist_latitude\").cast(T.DoubleType()).alias(\"latitude\"),\n",
    "                        F.col(\"artist_longitude\").cast(T.DoubleType()).alias(\"longitude\"),\n",
    "                        F.col(\"artist_location\").alias(\"location\"),\n",
    "                        F.regexp_replace(F.regexp_replace(F.col(\"artist_name\"), '\"', ''), '\\\\\\\\\\\\\\\\', '').alias(\"name\"))\n",
    "                .where(F.col(\"name\").isNotNull())\n",
    "                .groupBy(\"name\")\n",
    "                .agg(F.max(\"artistId\").alias(\"artistId\"),\n",
    "                     F.max(\"latitude\").alias(\"latitude\"),\n",
    "                     F.max(\"longitude\").alias(\"longitude\"),\n",
    "                     F.max(\"location\").alias(\"location\"))\n",
    "                .withColumn(\"artistKey\", F.md5(F.col(\"artistId\"))))"
   ]
  },
  {
   "cell_type": "code",
   "execution_count": 0,
   "metadata": {
    "application/vnd.databricks.v1+cell": {
     "cellMetadata": {
      "byteLimit": 2048000,
      "rowLimit": 10000
     },
     "inputWidgets": {},
     "nuid": "4385f00e-0981-487a-871c-a5b075bc3d45",
     "showTitle": false,
     "tableResultSettingsMap": {},
     "title": ""
    }
   },
   "outputs": [],
   "source": [
    "(artists_raw.write\n",
    " .format(\"delta\")\n",
    " .mode(\"overwrite\")\n",
    " .saveAsTable(f\"{catalog_name}.{silver_schema}.dim_artists\"))"
   ]
  },
  {
   "cell_type": "markdown",
   "metadata": {
    "application/vnd.databricks.v1+cell": {
     "cellMetadata": {},
     "inputWidgets": {},
     "nuid": "efdc1eaf-7a5b-456b-ae23-ddc59c8e8d96",
     "showTitle": false,
     "tableResultSettingsMap": {},
     "title": ""
    }
   },
   "source": [
    "## 3. Dimension: DateTime"
   ]
  },
  {
   "cell_type": "code",
   "execution_count": 0,
   "metadata": {
    "application/vnd.databricks.v1+cell": {
     "cellMetadata": {
      "byteLimit": 2048000,
      "rowLimit": 10000
     },
     "inputWidgets": {},
     "nuid": "7ad94026-2cc4-472a-a98f-8ed3dbb1a46f",
     "showTitle": false,
     "tableResultSettingsMap": {},
     "title": ""
    }
   },
   "outputs": [],
   "source": [
    "datetime_raw = (spark.sql(\"\"\"\n",
    "  WITH datetime_series AS (\n",
    "    SELECT explode(sequence(to_timestamp('2018-10-01 00:00:00'),\n",
    "                            to_timestamp('2025-03-31 23:59:59'),\n",
    "                            interval 1 hour)) AS datetime\n",
    "  )\n",
    "  SELECT\n",
    "    unix_timestamp(datetime) AS dateKey,\n",
    "    datetime,\n",
    "    dayofweek(datetime) AS dayOfWeek,\n",
    "    dayofmonth(datetime) AS dayOfMonth,\n",
    "    dayofyear(datetime) AS dayOfYear,\n",
    "    month(datetime) AS month,\n",
    "    year(datetime) AS year,\n",
    "    CASE WHEN dayofweek(datetime) IN (6, 7) THEN True ELSE False END AS weekendFlag\n",
    "  FROM datetime_series\n",
    "  ORDER BY datetime\"\"\"))"
   ]
  },
  {
   "cell_type": "code",
   "execution_count": 0,
   "metadata": {
    "application/vnd.databricks.v1+cell": {
     "cellMetadata": {
      "byteLimit": 2048000,
      "rowLimit": 10000
     },
     "inputWidgets": {},
     "nuid": "1af9618c-4c5f-488c-ab57-7066e2dee76a",
     "showTitle": false,
     "tableResultSettingsMap": {},
     "title": ""
    }
   },
   "outputs": [],
   "source": [
    "(datetime_raw.write\n",
    " .format(\"delta\")\n",
    " .mode(\"overwrite\")\n",
    " .saveAsTable(f\"{catalog_name}.{silver_schema}.dim_datetime\"))"
   ]
  }
 ],
 "metadata": {
  "application/vnd.databricks.v1+notebook": {
   "computePreferences": null,
   "dashboards": [],
   "environmentMetadata": {
    "base_environment": "",
    "environment_version": "2"
   },
   "language": "python",
   "notebookMetadata": {
    "mostRecentlyExecutedCommandWithImplicitDF": {
     "commandId": 3565138505900059,
     "dataframes": [
      "_sqldf"
     ]
    },
    "pythonIndentUnit": 4
   },
   "notebookName": "04.2_Batch_Process_From_Bronze_To_Silver",
   "widgets": {}
  },
  "language_info": {
   "name": "python"
  }
 },
 "nbformat": 4,
 "nbformat_minor": 0
}
