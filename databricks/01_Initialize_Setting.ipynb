{
 "cells": [
  {
   "cell_type": "markdown",
   "metadata": {
    "application/vnd.databricks.v1+cell": {
     "cellMetadata": {},
     "inputWidgets": {},
     "nuid": "311cc952-de48-488f-b935-af6f387e28ee",
     "showTitle": false,
     "tableResultSettingsMap": {},
     "title": ""
    }
   },
   "source": [
    "## 1. External locations in ADLS Gen2."
   ]
  },
  {
   "cell_type": "code",
   "execution_count": 0,
   "metadata": {
    "application/vnd.databricks.v1+cell": {
     "cellMetadata": {},
     "inputWidgets": {},
     "nuid": "a351a7a8-4e87-44a4-8ce1-216b1c27ace3",
     "showTitle": false,
     "tableResultSettingsMap": {},
     "title": ""
    }
   },
   "outputs": [],
   "source": [
    "checkpoint_path = spark.sql(\"DESCRIBE EXTERNAL LOCATION `el_checkpoints`\").select(\"url\").collect()[0][0]\n",
    "raw_path = spark.sql(\"DESCRIBE EXTERNAL LOCATION `el_raw`\").select(\"url\").collect()[0][0]\n",
    "bronze_path = spark.sql(\"DESCRIBE EXTERNAL LOCATION `el_bronze`\").select(\"url\").collect()[0][0]\n",
    "silver_path = spark.sql(\"DESCRIBE EXTERNAL LOCATION `el_silver`\").select(\"url\").collect()[0][0]\n",
    "gold_path = spark.sql(\"DESCRIBE EXTERNAL LOCATION `el_gold`\").select(\"url\").collect()[0][0]"
   ]
  },
  {
   "cell_type": "code",
   "execution_count": 0,
   "metadata": {
    "application/vnd.databricks.v1+cell": {
     "cellMetadata": {},
     "inputWidgets": {},
     "nuid": "c18eefc4-8b45-45dc-a80f-3b13e947815f",
     "showTitle": false,
     "tableResultSettingsMap": {},
     "title": ""
    }
   },
   "outputs": [],
   "source": []
  }
 ],
 "metadata": {
  "application/vnd.databricks.v1+notebook": {
   "computePreferences": null,
   "dashboards": [],
   "environmentMetadata": {
    "base_environment": "",
    "environment_version": "2"
   },
   "language": "python",
   "notebookMetadata": {
    "pythonIndentUnit": 4
   },
   "notebookName": "01_Initialize_Setting",
   "widgets": {}
  },
  "language_info": {
   "name": "python"
  }
 },
 "nbformat": 4,
 "nbformat_minor": 0
}
