{
 "cells": [
  {
   "cell_type": "code",
   "execution_count": 0,
   "metadata": {
    "application/vnd.databricks.v1+cell": {
     "cellMetadata": {
      "byteLimit": 2048000,
      "rowLimit": 10000
     },
     "inputWidgets": {},
     "nuid": "8e53c5b8-c0a1-4605-8860-70f72ed7064f",
     "showTitle": false,
     "tableResultSettingsMap": {},
     "title": ""
    }
   },
   "outputs": [],
   "source": [
    "%run \"/Users/drmaiatauros@hotmail.com/01_Initialize_Setting\""
   ]
  },
  {
   "cell_type": "code",
   "execution_count": 0,
   "metadata": {
    "application/vnd.databricks.v1+cell": {
     "cellMetadata": {
      "byteLimit": 2048000,
      "rowLimit": 10000
     },
     "inputWidgets": {},
     "nuid": "99d7b97b-e5a4-4777-bece-141f396c9645",
     "showTitle": false,
     "tableResultSettingsMap": {},
     "title": ""
    }
   },
   "outputs": [],
   "source": [
    "from pyspark.sql.functions import col, from_json, current_timestamp\n",
    "from pyspark.sql.types import StructType, StructField, StringType, LongType, DoubleType, TimestampType"
   ]
  },
  {
   "cell_type": "code",
   "execution_count": 0,
   "metadata": {
    "application/vnd.databricks.v1+cell": {
     "cellMetadata": {
      "byteLimit": 2048000,
      "rowLimit": 10000
     },
     "inputWidgets": {},
     "nuid": "203c5b17-6b0e-4cdd-9ad5-0b60a3bfdc95",
     "showTitle": false,
     "tableResultSettingsMap": {},
     "title": ""
    }
   },
   "outputs": [],
   "source": [
    "# Kafka connection parameters\n",
    "kafka_bootstrap_servers = \"4.246.237.185:9092\"\n",
    "kafka_topic = \"page_view_events_new\"\n",
    "\n",
    "# Unity Catalog paths\n",
    "catalog_name = \"music_streaming\"\n",
    "schema_name = \"raw\"\n",
    "table_name = \"page_view_events\""
   ]
  },
  {
   "cell_type": "code",
   "execution_count": 0,
   "metadata": {
    "application/vnd.databricks.v1+cell": {
     "cellMetadata": {
      "byteLimit": 2048000,
      "rowLimit": 10000
     },
     "inputWidgets": {},
     "nuid": "03c9b71c-61c6-4c57-a342-e04db986c483",
     "showTitle": false,
     "tableResultSettingsMap": {},
     "title": ""
    }
   },
   "outputs": [],
   "source": [
    "# Read stream from Kafka with increased timeouts and retry settings\n",
    "kafka_stream_df = (spark.readStream\n",
    "  .format(\"kafka\")\n",
    "  .option(\"kafka.bootstrap.servers\", kafka_bootstrap_servers)\n",
    "  .option(\"subscribe\", kafka_topic)\n",
    "  .option(\"startingOffsets\", \"earliest\")  # Use \"latest\" for production\n",
    "  .option(\"failOnDataLoss\", \"false\")\n",
    "  # Add timeout settings\n",
    "  .option(\"kafka.request.timeout.ms\", \"60000\")\n",
    "  .option(\"kafka.session.timeout.ms\", \"60000\")\n",
    "  .option(\"kafka.connection.max.idle.ms\", \"60000\")\n",
    "  .option(\"kafka.metadata.max.age.ms\", \"180000\")\n",
    "  # Add retry settings\n",
    "  .option(\"kafka.retry.backoff.ms\", \"1000\")\n",
    "  .option(\"kafka.max.poll.interval.ms\", \"60000\")\n",
    "  .option(\"kafka.max.poll.records\", \"500\")\n",
    "  # Add security settings (if needed)\n",
    "  .option(\"kafka.security.protocol\", \"PLAINTEXT\")\n",
    "  .load()\n",
    ")"
   ]
  },
  {
   "cell_type": "code",
   "execution_count": 0,
   "metadata": {
    "application/vnd.databricks.v1+cell": {
     "cellMetadata": {
      "byteLimit": 2048000,
      "rowLimit": 10000
     },
     "inputWidgets": {},
     "nuid": "d3c00967-1b74-4d64-988a-cbd39a2a407d",
     "showTitle": false,
     "tableResultSettingsMap": {},
     "title": ""
    }
   },
   "outputs": [],
   "source": [
    "# Display schema of the Kafka stream\n",
    "kafka_stream_df.printSchema()"
   ]
  },
  {
   "cell_type": "code",
   "execution_count": 0,
   "metadata": {
    "application/vnd.databricks.v1+cell": {
     "cellMetadata": {
      "byteLimit": 2048000,
      "rowLimit": 10000
     },
     "inputWidgets": {},
     "nuid": "548001fd-ba3e-42eb-8346-99ecf0260660",
     "showTitle": false,
     "tableResultSettingsMap": {},
     "title": ""
    }
   },
   "outputs": [],
   "source": [
    "# Define schema based on your event data structure\n",
    "schema = StructType([\n",
    "    StructField(\"ts\", LongType(), True),\n",
    "    StructField(\"sessionId\", StringType(), True),\n",
    "    StructField(\"userId\", StringType(), True),\n",
    "    StructField(\"auth\", StringType(), True),\n",
    "    StructField(\"level\", StringType(), True),\n",
    "    StructField(\"itemInSession\", LongType(), True),\n",
    "    StructField(\"page\", StringType(), True),\n",
    "    StructField(\"method\", StringType(), True),\n",
    "    StructField(\"status\", LongType(), True),\n",
    "    StructField(\"city\", StringType(), True),\n",
    "    StructField(\"zip\", StringType(), True),\n",
    "    StructField(\"state\", StringType(), True),\n",
    "    StructField(\"userAgent\", StringType(), True),\n",
    "    StructField(\"lon\", DoubleType(), True),\n",
    "    StructField(\"lat\", DoubleType(), True),\n",
    "    StructField(\"firstName\", StringType(), True),\n",
    "    StructField(\"lastName\", StringType(), True),\n",
    "    StructField(\"gender\", StringType(), True),\n",
    "    StructField(\"registration\", LongType(), True)\n",
    "])"
   ]
  },
  {
   "cell_type": "code",
   "execution_count": 0,
   "metadata": {
    "application/vnd.databricks.v1+cell": {
     "cellMetadata": {
      "byteLimit": 2048000,
      "rowLimit": 10000
     },
     "inputWidgets": {},
     "nuid": "37d33b6b-8935-49b6-abd2-927b70209973",
     "showTitle": false,
     "tableResultSettingsMap": {},
     "title": ""
    }
   },
   "outputs": [],
   "source": [
    "# Parse the value column from Kafka which contains the JSON data\n",
    "parsed_df = kafka_stream_df.select(\n",
    "    col(\"timestamp\").alias(\"kafka_timestamp\"),\n",
    "    col(\"topic\").alias(\"kafka_topic\"),\n",
    "    col(\"partition\").alias(\"kafka_partition\"),\n",
    "    col(\"offset\").alias(\"kafka_offset\"),\n",
    "    from_json(col(\"value\").cast(\"string\"), schema).alias(\"data\")\n",
    ").select(\n",
    "    \"kafka_timestamp\", \n",
    "    \"kafka_topic\", \n",
    "    \"kafka_partition\", \n",
    "    \"kafka_offset\", \n",
    "    \"data.*\"\n",
    ")"
   ]
  },
  {
   "cell_type": "code",
   "execution_count": 0,
   "metadata": {
    "application/vnd.databricks.v1+cell": {
     "cellMetadata": {
      "byteLimit": 2048000,
      "rowLimit": 10000
     },
     "inputWidgets": {},
     "nuid": "771c8f57-46d9-49b3-9ce2-93f74267691e",
     "showTitle": false,
     "tableResultSettingsMap": {},
     "title": ""
    }
   },
   "outputs": [],
   "source": [
    "# Add ingestion timestamp\n",
    "parsed_df = parsed_df.withColumn(\"ingestion_time\", current_timestamp())"
   ]
  },
  {
   "cell_type": "code",
   "execution_count": 0,
   "metadata": {
    "application/vnd.databricks.v1+cell": {
     "cellMetadata": {
      "byteLimit": 2048000,
      "rowLimit": 10000
     },
     "inputWidgets": {},
     "nuid": "7131b310-9a50-48d3-b834-82e48e2e7d3b",
     "showTitle": false,
     "tableResultSettingsMap": {},
     "title": ""
    }
   },
   "outputs": [],
   "source": [
    "# Display the parsed schema\n",
    "parsed_df.printSchema()"
   ]
  },
  {
   "cell_type": "code",
   "execution_count": 0,
   "metadata": {
    "application/vnd.databricks.v1+cell": {
     "cellMetadata": {
      "byteLimit": 2048000,
      "rowLimit": 10000
     },
     "inputWidgets": {},
     "nuid": "ad28a31f-eb92-4749-9571-fa1ef62b719e",
     "showTitle": false,
     "tableResultSettingsMap": {},
     "title": ""
    }
   },
   "outputs": [],
   "source": [
    "# Full table path in Unity Catalog\n",
    "table_path = f\"{catalog_name}.{schema_name}.{table_name}\""
   ]
  },
  {
   "cell_type": "code",
   "execution_count": 0,
   "metadata": {
    "application/vnd.databricks.v1+cell": {
     "cellMetadata": {
      "byteLimit": 2048000,
      "rowLimit": 10000
     },
     "inputWidgets": {},
     "nuid": "72a83826-c3f8-410b-bc74-c16c226bda74",
     "showTitle": false,
     "tableResultSettingsMap": {},
     "title": ""
    }
   },
   "outputs": [],
   "source": [
    "# Write the stream to Delta table in Unity Catalog\n",
    "stream_query = (parsed_df.writeStream\n",
    "  .format(\"delta\")\n",
    "  .outputMode(\"append\")\n",
    "  .option(\"checkpointLocation\", f'{checkpoint_path}page_view_events/')\n",
    "  .partitionBy(\"page\")  # Optional: partition by a field that makes sense for your data\n",
    "  .trigger(processingTime=\"2 minutes\")  # Process every 2 minutes\n",
    "  .option(\"mergeSchema\", \"true\")  # Allow schema evolution\n",
    "  .toTable(table_path)\n",
    ")"
   ]
  },
  {
   "cell_type": "code",
   "execution_count": 0,
   "metadata": {
    "application/vnd.databricks.v1+cell": {
     "cellMetadata": {
      "byteLimit": 2048000,
      "rowLimit": 10000
     },
     "inputWidgets": {},
     "nuid": "c2b14b28-c511-4ca2-8c4a-31eeaff50b79",
     "showTitle": false,
     "tableResultSettingsMap": {},
     "title": ""
    }
   },
   "outputs": [],
   "source": [
    "# Wait for the streaming query to terminate\n",
    "stream_query.awaitTermination()"
   ]
  },
  {
   "cell_type": "code",
   "execution_count": 0,
   "metadata": {
    "application/vnd.databricks.v1+cell": {
     "cellMetadata": {
      "byteLimit": 2048000,
      "rowLimit": 10000
     },
     "inputWidgets": {},
     "nuid": "97eb3f7a-3da5-4f31-9841-3af7fdbcc530",
     "showTitle": false,
     "tableResultSettingsMap": {},
     "title": ""
    }
   },
   "outputs": [],
   "source": [
    "stream_query.stop()"
   ]
  },
  {
   "cell_type": "code",
   "execution_count": 0,
   "metadata": {
    "application/vnd.databricks.v1+cell": {
     "cellMetadata": {
      "byteLimit": 2048000,
      "implicitDf": true,
      "rowLimit": 10000
     },
     "inputWidgets": {},
     "nuid": "b3d8dc8a-6d83-47b4-a103-cae8089eaea7",
     "showTitle": false,
     "tableResultSettingsMap": {},
     "title": ""
    }
   },
   "outputs": [],
   "source": [
    "%sql\n",
    "SELECT * FROM music_streaming.raw.page_view_events;"
   ]
  }
 ],
 "metadata": {
  "application/vnd.databricks.v1+notebook": {
   "computePreferences": null,
   "dashboards": [],
   "environmentMetadata": {
    "base_environment": "",
    "environment_version": "2"
   },
   "language": "python",
   "notebookMetadata": {
    "mostRecentlyExecutedCommandWithImplicitDF": {
     "commandId": 93934190716044,
     "dataframes": [
      "_sqldf"
     ]
    },
    "pythonIndentUnit": 4
   },
   "notebookName": "02_Ingesting_Data_From_Kafka",
   "widgets": {}
  },
  "language_info": {
   "name": "python"
  }
 },
 "nbformat": 4,
 "nbformat_minor": 0
}
