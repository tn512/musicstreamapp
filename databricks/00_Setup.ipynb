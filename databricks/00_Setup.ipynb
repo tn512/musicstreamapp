{
 "cells": [
  {
   "cell_type": "markdown",
   "metadata": {
    "application/vnd.databricks.v1+cell": {
     "cellMetadata": {},
     "inputWidgets": {},
     "nuid": "7bd23036-6a70-46ad-9c45-f37c04242a65",
     "showTitle": false,
     "tableResultSettingsMap": {},
     "title": ""
    }
   },
   "source": [
    "## 1. Set Up Unity Catalog Resources:"
   ]
  },
  {
   "cell_type": "code",
   "execution_count": 0,
   "metadata": {
    "application/vnd.databricks.v1+cell": {
     "cellMetadata": {
      "byteLimit": 2048000,
      "implicitDf": true,
      "rowLimit": 10000
     },
     "inputWidgets": {},
     "nuid": "b7600539-4c88-471d-89cf-c88fadccc710",
     "showTitle": false,
     "tableResultSettingsMap": {},
     "title": ""
    }
   },
   "outputs": [],
   "source": [
    "%sql\n",
    "CREATE CATALOG IF NOT EXISTS music_streaming MANAGED LOCATION 'abfss://unity-catalog-storage@dbstorageds7d5vqs2ylkm.dfs.core.windows.net/865390609742395';\n",
    "\n",
    "USE CATALOG music_streaming;\n",
    "\n",
    "CREATE SCHEMA IF NOT EXISTS raw;\n",
    "\n",
    "CREATE SCHEMA IF NOT EXISTS bronze;\n",
    "\n",
    "CREATE SCHEMA IF NOT EXISTS silver;\n",
    "\n",
    "CREATE SCHEMA IF NOT EXISTS gold;"
   ]
  },
  {
   "cell_type": "markdown",
   "metadata": {
    "application/vnd.databricks.v1+cell": {
     "cellMetadata": {},
     "inputWidgets": {},
     "nuid": "4e75f9d6-ad78-4a23-b9a2-57a839ed7910",
     "showTitle": false,
     "tableResultSettingsMap": {},
     "title": ""
    }
   },
   "source": [
    "## 2. Configure Databricks Access to ADLS Gen2:"
   ]
  },
  {
   "cell_type": "code",
   "execution_count": 0,
   "metadata": {
    "application/vnd.databricks.v1+cell": {
     "cellMetadata": {
      "byteLimit": 2048000,
      "implicitDf": true,
      "rowLimit": 10000
     },
     "inputWidgets": {},
     "nuid": "060746bf-f60c-4bab-ab44-2c698fc85e54",
     "showTitle": false,
     "tableResultSettingsMap": {},
     "title": ""
    }
   },
   "outputs": [],
   "source": [
    "%sql\n",
    "SHOW STORAGE CREDENTIALS;"
   ]
  },
  {
   "cell_type": "code",
   "execution_count": 0,
   "metadata": {
    "application/vnd.databricks.v1+cell": {
     "cellMetadata": {
      "byteLimit": 2048000,
      "implicitDf": true,
      "rowLimit": 10000
     },
     "inputWidgets": {},
     "nuid": "f0e0fe3c-dd69-4fd2-b433-46ab21ee1a11",
     "showTitle": false,
     "tableResultSettingsMap": {},
     "title": ""
    }
   },
   "outputs": [],
   "source": [
    "%sql\n",
    "CREATE EXTERNAL LOCATION IF NOT EXISTS el_checkpoints\n",
    "  URL 'abfss://checkpoint@musicstreamappp02devdls.dfs.core.windows.net/'\n",
    "  WITH (STORAGE CREDENTIAL sc_musicstreamappdevdls)\n",
    "  COMMENT 'External location for checkpoint';\n",
    "\n",
    "CREATE EXTERNAL LOCATION IF NOT EXISTS el_raw\n",
    "  URL 'abfss://raw@musicstreamappp02devdls.dfs.core.windows.net/'\n",
    "  WITH (STORAGE CREDENTIAL sc_musicstreamappdevdls)\n",
    "  COMMENT 'External location for raw';  "
   ]
  },
  {
   "cell_type": "code",
   "execution_count": 0,
   "metadata": {
    "application/vnd.databricks.v1+cell": {
     "cellMetadata": {
      "byteLimit": 2048000,
      "implicitDf": true,
      "rowLimit": 10000
     },
     "inputWidgets": {},
     "nuid": "c7d55684-82fe-450a-a4d5-6d36551f69dd",
     "showTitle": false,
     "tableResultSettingsMap": {},
     "title": ""
    }
   },
   "outputs": [],
   "source": [
    "%sql\n",
    "SHOW EXTERNAL LOCATIONS;"
   ]
  }
 ],
 "metadata": {
  "application/vnd.databricks.v1+notebook": {
   "computePreferences": null,
   "dashboards": [],
   "environmentMetadata": {
    "base_environment": "",
    "environment_version": "2"
   },
   "language": "python",
   "notebookMetadata": {
    "mostRecentlyExecutedCommandWithImplicitDF": {
     "commandId": 3565138505900109,
     "dataframes": [
      "_sqldf"
     ]
    },
    "pythonIndentUnit": 4
   },
   "notebookName": "00_Setup",
   "widgets": {}
  },
  "language_info": {
   "name": "python"
  }
 },
 "nbformat": 4,
 "nbformat_minor": 0
}
