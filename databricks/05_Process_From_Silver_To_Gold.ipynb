{
 "cells": [
  {
   "cell_type": "code",
   "execution_count": 0,
   "metadata": {
    "application/vnd.databricks.v1+cell": {
     "cellMetadata": {
      "byteLimit": 2048000,
      "rowLimit": 10000
     },
     "inputWidgets": {},
     "nuid": "f9f886d2-499d-43d1-9149-dfaa1d94413c",
     "showTitle": false,
     "tableResultSettingsMap": {},
     "title": ""
    }
   },
   "outputs": [],
   "source": [
    "%run \"/Workspace/Users/samuel.barroscatarino@educ.sasserno.fr/musicstreamapp/databricks/01_Initialize_Setting\""
   ]
  },
  {
   "cell_type": "markdown",
   "metadata": {
    "application/vnd.databricks.v1+cell": {
     "cellMetadata": {},
     "inputWidgets": {},
     "nuid": "e6ba2dfe-3637-4d57-97a6-d2d8f35302f2",
     "showTitle": false,
     "tableResultSettingsMap": {},
     "title": ""
    }
   },
   "source": [
    "## 1. Fact_Streams Table"
   ]
  },
  {
   "cell_type": "code",
   "execution_count": 0,
   "metadata": {
    "application/vnd.databricks.v1+cell": {
     "cellMetadata": {
      "byteLimit": 2048000,
      "rowLimit": 10000
     },
     "inputWidgets": {},
     "nuid": "7161f4a6-a51e-417f-9fae-6dd1b2a47161",
     "showTitle": false,
     "tableResultSettingsMap": {},
     "title": ""
    }
   },
   "outputs": [],
   "source": [
    "listen_events_df = (spark.readStream.table(f\"{catalog_name}.{bronze_schema}.listen_events\")\n",
    "                    .select(\"userId\", \"song\", \"timestamp\", \"city\", \"state\", \"latitude\", \"longitude\",\n",
    "                            F.regexp_replace(F.regexp_replace(F.col(\"artist\"), '\"', ''), '\\\\\\\\\\\\\\\\', '').alias(\"artist_clean\"))\n",
    "                    .filter(F.col(\"userId\").isNotNull()))"
   ]
  },
  {
   "cell_type": "code",
   "execution_count": 0,
   "metadata": {
    "application/vnd.databricks.v1+cell": {
     "cellMetadata": {
      "byteLimit": 2048000,
      "rowLimit": 10000
     },
     "inputWidgets": {},
     "nuid": "89145270-1c34-49e6-a4c2-40dab4bf0201",
     "showTitle": false,
     "tableResultSettingsMap": {},
     "title": ""
    }
   },
   "outputs": [],
   "source": [
    "dim_users_df = spark.read.table(f\"{catalog_name}.{silver_schema}.dim_users\")\n",
    "dim_songs_df = spark.read.table(f\"{catalog_name}.{silver_schema}.dim_songs\")\n",
    "dim_artists_df = spark.read.table(f\"{catalog_name}.{silver_schema}.dim_artists\")\n",
    "dim_locations_df = spark.read.table(f\"{catalog_name}.{silver_schema}.dim_location\")\n",
    "dim_datetime_df = spark.read.table(f\"{catalog_name}.{silver_schema}.dim_datetime\")"
   ]
  },
  {
   "cell_type": "code",
   "execution_count": 0,
   "metadata": {
    "application/vnd.databricks.v1+cell": {
     "cellMetadata": {
      "byteLimit": 2048000,
      "rowLimit": 10000
     },
     "inputWidgets": {},
     "nuid": "c0079dfb-9e32-4959-b0e2-e8a6ed282fbb",
     "showTitle": false,
     "tableResultSettingsMap": {},
     "title": ""
    }
   },
   "outputs": [],
   "source": [
    "fact_stream = (listen_events_df\n",
    "               # Join with dim_users (SCD Type 2)\n",
    "               .join(dim_users_df, \n",
    "                     (listen_events_df.userId == dim_users_df.userId)\n",
    "                        & (F.to_date(listen_events_df.timestamp) >= dim_users_df.row_activation_date)\n",
    "                        & (F.to_date(listen_events_df.timestamp) < dim_users_df.row_expiration_date), \n",
    "                      \"left\")\n",
    "               # Join with dim_artists\n",
    "               .join(dim_artists_df, listen_events_df.artist_clean == dim_artists_df.name, \"left\")\n",
    "               # Join with dim_songs\n",
    "               .join(dim_songs_df, \n",
    "                     (listen_events_df.song == dim_songs_df.title)\n",
    "                     & (listen_events_df.artist_clean == dim_songs_df.artistName), \n",
    "                     \"left\")\n",
    "               # Join with dim_location\n",
    "               .join(dim_locations_df,\n",
    "                     (listen_events_df.city == dim_locations_df.city)\n",
    "                     & (listen_events_df.state == dim_locations_df.stateCode)\n",
    "                     & (listen_events_df.latitude == dim_locations_df.latitude)\n",
    "                     & (listen_events_df.longitude == dim_locations_df.longitude),\n",
    "                     \"left\")\n",
    "               # Join with dim_datetime\n",
    "               .join(dim_datetime_df, F.date_trunc(\"hour\", listen_events_df.timestamp) == dim_datetime_df.datetime, \"left\")\n",
    "               .select(\"userKey\", \"artistKey\", \"songKey\", \"dateKey\", \"locationKey\", \"timestamp\",\n",
    "                       F.to_date(F.col(\"timestamp\")).alias(\"date_part\")))"
   ]
  },
  {
   "cell_type": "code",
   "execution_count": 0,
   "metadata": {
    "application/vnd.databricks.v1+cell": {
     "cellMetadata": {
      "byteLimit": 2048000,
      "rowLimit": 10000
     },
     "inputWidgets": {},
     "nuid": "ac10dbf6-8e5e-40f7-9b48-6afdc42b88c7",
     "showTitle": false,
     "tableResultSettingsMap": {},
     "title": ""
    }
   },
   "outputs": [],
   "source": [
    "(fact_stream.writeStream\n",
    " .format(\"delta\")\n",
    " .outputMode(\"append\")\n",
    " .option(\"checkpointLocation\", f\"{checkpoint_path}/{gold_schema}/fact_stream/\")\n",
    " .partitionBy(\"date_part\")\n",
    " .trigger(availableNow=True)\n",
    " .toTable(f\"{catalog_name}.{gold_schema}.fact_stream\"))"
   ]
  },
  {
   "cell_type": "code",
   "execution_count": 0,
   "metadata": {
    "application/vnd.databricks.v1+cell": {
     "cellMetadata": {
      "byteLimit": 2048000,
      "implicitDf": true,
      "rowLimit": 10000
     },
     "inputWidgets": {},
     "nuid": "5e8091bb-5abd-4eca-8b5b-d13337e3f245",
     "showTitle": false,
     "tableResultSettingsMap": {},
     "title": ""
    }
   },
   "outputs": [],
   "source": [
    "%sql\n",
    "SELECT * FROM music_streaming.gold.fact_stream LIMIT 5;"
   ]
  },
  {
   "cell_type": "markdown",
   "metadata": {
    "application/vnd.databricks.v1+cell": {
     "cellMetadata": {},
     "inputWidgets": {},
     "nuid": "cfc4d1c3-6dbf-4fc0-b921-0ead2bd49f9f",
     "showTitle": true,
     "tableResultSettingsMap": {},
     "title": ""
    }
   },
   "source": [
    "## 2. Wide_Fact View"
   ]
  },
  {
   "cell_type": "code",
   "execution_count": 0,
   "metadata": {
    "application/vnd.databricks.v1+cell": {
     "cellMetadata": {
      "byteLimit": 2048000,
      "implicitDf": true,
      "rowLimit": 10000
     },
     "inputWidgets": {},
     "nuid": "ab069172-b7ce-49ac-bdde-c8f0782b8233",
     "showTitle": false,
     "tableResultSettingsMap": {},
     "title": ""
    }
   },
   "outputs": [],
   "source": [
    "%sql\n",
    "CREATE OR REPLACE VIEW music_streaming.gold.wide_fact\n",
    "AS\n",
    "SELECT \n",
    "f.userKey,\n",
    "            f.artistKey,\n",
    "            f.songKey,\n",
    "            f.dateKey,\n",
    "            f.locationKey,\n",
    "            f.timestamp,\n",
    "            u.firstName,\n",
    "            u.lastName,\n",
    "            u.gender,\n",
    "            u.level,\n",
    "            u.userId,\n",
    "            s.duration as songDuration,\n",
    "            s.title as songName,\n",
    "            l.city,\n",
    "            l.stateCode as state,\n",
    "            l.latitude,\n",
    "            l.longitude,\n",
    "            d.datetime as dateHour,\n",
    "            d.dayOfMonth,\n",
    "            d.dayOfWeek,\n",
    "            a.name as artistName\n",
    "FROM music_streaming.gold.fact_stream f\n",
    "INNER JOIN music_streaming.silver.dim_users u ON f.userKey = u.userKey\n",
    "INNER JOIN music_streaming.silver.dim_songs s ON f.songKey = s.songKey\n",
    "INNER JOIN music_streaming.silver.dim_artists a ON f.artistKey = a.artistKey\n",
    "INNER JOIN music_streaming.silver.dim_location l ON f.locationKey = l.locationKey\n",
    "INNER JOIN music_streaming.silver.dim_datetime d ON f.dateKey = d.dateKey"
   ]
  },
  {
   "cell_type": "code",
   "execution_count": 0,
   "metadata": {
    "application/vnd.databricks.v1+cell": {
     "cellMetadata": {
      "byteLimit": 2048000,
      "implicitDf": true,
      "rowLimit": 10000
     },
     "inputWidgets": {},
     "nuid": "937b3ad6-2f5d-4b3a-a36b-4ce8d6ecec4f",
     "showTitle": false,
     "tableResultSettingsMap": {},
     "title": ""
    }
   },
   "outputs": [],
   "source": [
    "%sql\n",
    "SELECT * FROM music_streaming.gold.wide_fact LIMIT 10;"
   ]
  }
 ],
 "metadata": {
  "application/vnd.databricks.v1+notebook": {
   "computePreferences": null,
   "dashboards": [],
   "environmentMetadata": {
    "base_environment": "",
    "environment_version": "2"
   },
   "language": "python",
   "notebookMetadata": {
    "mostRecentlyExecutedCommandWithImplicitDF": {
     "commandId": 4450912020677707,
     "dataframes": [
      "_sqldf"
     ]
    },
    "pythonIndentUnit": 4
   },
   "notebookName": "05_Process_From_Silver_To_Gold",
   "widgets": {}
  },
  "language_info": {
   "name": "python"
  }
 },
 "nbformat": 4,
 "nbformat_minor": 0
}
